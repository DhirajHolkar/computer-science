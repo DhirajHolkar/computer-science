{
 "cells": [
  {
   "cell_type": "code",
   "execution_count": 3,
   "id": "e18eb58b",
   "metadata": {},
   "outputs": [
    {
     "name": "stdout",
     "output_type": "stream",
     "text": [
      "enter number of terms: \n",
      "10\n",
      "fibonacci series: \n",
      "[0, 1, 1, 2, 3, 5, 8, 13, 21, 34]\n"
     ]
    }
   ],
   "source": [
    "num1 = 0\n",
    "num2 = 1\n",
    "nextTerm = 0\n",
    "arr = []\n",
    "\n",
    "print(\"enter number of terms: \")\n",
    "n = int(input())\n",
    "\n",
    "arr.append(num1)\n",
    "arr.append(num2)\n",
    "\n",
    "\n",
    "for i in range(1,n-1):\n",
    "    nextTerm = num1 + num2\n",
    "    num1 = num2\n",
    "    num2 = nextTerm\n",
    "    arr.append(nextTerm)\n",
    "\n",
    "print(\"fibonacci series: \")\n",
    "print(arr)"
   ]
  },
  {
   "cell_type": "code",
   "execution_count": null,
   "id": "e8656d5b",
   "metadata": {},
   "outputs": [],
   "source": []
  }
 ],
 "metadata": {
  "kernelspec": {
   "display_name": "Python 3 (ipykernel)",
   "language": "python",
   "name": "python3"
  },
  "language_info": {
   "codemirror_mode": {
    "name": "ipython",
    "version": 3
   },
   "file_extension": ".py",
   "mimetype": "text/x-python",
   "name": "python",
   "nbconvert_exporter": "python",
   "pygments_lexer": "ipython3",
   "version": "3.9.6"
  }
 },
 "nbformat": 4,
 "nbformat_minor": 5
}
