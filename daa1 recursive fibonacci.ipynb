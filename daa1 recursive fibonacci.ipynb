{
 "cells": [
  {
   "cell_type": "code",
   "execution_count": 1,
   "id": "110eacee",
   "metadata": {},
   "outputs": [
    {
     "name": "stdout",
     "output_type": "stream",
     "text": [
      "enter number of terms: \n",
      "10\n",
      "fibonacci series: \n",
      "[0, 1, 1, 2, 3, 5, 8, 13, 21, 34]\n"
     ]
    }
   ],
   "source": [
    "\n",
    "arr = []\n",
    "\n",
    "def fibrecursive(n):\n",
    "    if n<=1:\n",
    "        return n\n",
    "    else:\n",
    "        return fibrecursive(n-1)+fibrecursive(n-2)\n",
    "    \n",
    "\n",
    "print(\"enter number of terms: \")\n",
    "n = int(input())\n",
    "\n",
    "\n",
    "for i in range(n):\n",
    "    item = fibrecursive(i)\n",
    "    arr.append(item)\n",
    "    \n",
    "print(\"fibonacci series: \")\n",
    "print(arr)"
   ]
  },
  {
   "cell_type": "code",
   "execution_count": null,
   "id": "59a09d14",
   "metadata": {},
   "outputs": [],
   "source": []
  }
 ],
 "metadata": {
  "kernelspec": {
   "display_name": "Python 3 (ipykernel)",
   "language": "python",
   "name": "python3"
  },
  "language_info": {
   "codemirror_mode": {
    "name": "ipython",
    "version": 3
   },
   "file_extension": ".py",
   "mimetype": "text/x-python",
   "name": "python",
   "nbconvert_exporter": "python",
   "pygments_lexer": "ipython3",
   "version": "3.9.6"
  }
 },
 "nbformat": 4,
 "nbformat_minor": 5
}
